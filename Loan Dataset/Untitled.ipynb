{
 "cells": [
  {
   "cell_type": "code",
   "execution_count": 2,
   "id": "2c8048e8",
   "metadata": {},
   "outputs": [],
   "source": [
    "import pandas as pd\n",
    "import numpy as np\n",
    "\n",
    "from sklearn.model_selection import train_test_split,GridSearchCV,RandomizedSearchCV\n",
    "from sklearn.preprocessing import MinMaxScaler, StandardScaler,OneHotEncoder,LabelEncoder\n",
    "\n",
    "from sklearn.linear_model import LinearRegression,LogisticRegression,Lasso,Ridge\n",
    "from sklearn.tree import DecisionTreeClassifier,DecisionTreeRegressor,plot_tree\n",
    "from sklearn.neighbors import KNeighborsClassifier,KNeighborsRegressor\n",
    "from sklearn.ensemble import RandomForestClassifier,RandomForestRegressor,AdaBoostClassifier,AdaBoostRegressor\n",
    "from sklearn.cluster import KMeans\n",
    "from sklearn.naive_bayes import GaussianNB,MultinomialNB,BernoulliNB\n",
    "\n",
    "from sklearn.metrics import accuracy_score,classification_report,confusion_matrix,roc_curve,roc_auc_score\n",
    "from sklearn.metrics import mean_absolute_error,mean_squared_error,r2_score\n",
    "\n",
    "import seaborn as sns\n",
    "import matplotlib.pyplot as plt\n"
   ]
  },
  {
   "cell_type": "markdown",
   "id": "b2321194",
   "metadata": {},
   "source": [
    "## Problem Statement"
   ]
  },
  {
   "cell_type": "raw",
   "id": "2d9845f8",
   "metadata": {},
   "source": [
    "To check whether the customer is eligible for loan and check whether what are the missing criteria to know why the customer is not getting a loan.\n"
   ]
  },
  {
   "cell_type": "markdown",
   "id": "77b61497",
   "metadata": {},
   "source": [
    "## Data Gathering"
   ]
  },
  {
   "cell_type": "code",
   "execution_count": 3,
   "id": "3f01c82d",
   "metadata": {},
   "outputs": [
    {
     "data": {
      "text/html": [
       "<div>\n",
       "<style scoped>\n",
       "    .dataframe tbody tr th:only-of-type {\n",
       "        vertical-align: middle;\n",
       "    }\n",
       "\n",
       "    .dataframe tbody tr th {\n",
       "        vertical-align: top;\n",
       "    }\n",
       "\n",
       "    .dataframe thead th {\n",
       "        text-align: right;\n",
       "    }\n",
       "</style>\n",
       "<table border=\"1\" class=\"dataframe\">\n",
       "  <thead>\n",
       "    <tr style=\"text-align: right;\">\n",
       "      <th></th>\n",
       "      <th>Loan_ID</th>\n",
       "      <th>Gender</th>\n",
       "      <th>Married</th>\n",
       "      <th>Dependents</th>\n",
       "      <th>Education</th>\n",
       "      <th>Self_Employed</th>\n",
       "      <th>ApplicantIncome</th>\n",
       "      <th>CoapplicantIncome</th>\n",
       "      <th>LoanAmount</th>\n",
       "      <th>Loan_Amount_Term</th>\n",
       "      <th>Credit_History</th>\n",
       "      <th>Property_Area</th>\n",
       "      <th>Loan_Status</th>\n",
       "    </tr>\n",
       "  </thead>\n",
       "  <tbody>\n",
       "    <tr>\n",
       "      <th>0</th>\n",
       "      <td>LP001002</td>\n",
       "      <td>Male</td>\n",
       "      <td>No</td>\n",
       "      <td>0</td>\n",
       "      <td>Graduate</td>\n",
       "      <td>No</td>\n",
       "      <td>5849</td>\n",
       "      <td>0.0</td>\n",
       "      <td>NaN</td>\n",
       "      <td>360.0</td>\n",
       "      <td>1.0</td>\n",
       "      <td>Urban</td>\n",
       "      <td>Y</td>\n",
       "    </tr>\n",
       "    <tr>\n",
       "      <th>1</th>\n",
       "      <td>LP001003</td>\n",
       "      <td>Male</td>\n",
       "      <td>Yes</td>\n",
       "      <td>1</td>\n",
       "      <td>Graduate</td>\n",
       "      <td>No</td>\n",
       "      <td>4583</td>\n",
       "      <td>1508.0</td>\n",
       "      <td>128.0</td>\n",
       "      <td>360.0</td>\n",
       "      <td>1.0</td>\n",
       "      <td>Rural</td>\n",
       "      <td>N</td>\n",
       "    </tr>\n",
       "    <tr>\n",
       "      <th>2</th>\n",
       "      <td>LP001005</td>\n",
       "      <td>Male</td>\n",
       "      <td>Yes</td>\n",
       "      <td>0</td>\n",
       "      <td>Graduate</td>\n",
       "      <td>Yes</td>\n",
       "      <td>3000</td>\n",
       "      <td>0.0</td>\n",
       "      <td>66.0</td>\n",
       "      <td>360.0</td>\n",
       "      <td>1.0</td>\n",
       "      <td>Urban</td>\n",
       "      <td>Y</td>\n",
       "    </tr>\n",
       "    <tr>\n",
       "      <th>3</th>\n",
       "      <td>LP001006</td>\n",
       "      <td>Male</td>\n",
       "      <td>Yes</td>\n",
       "      <td>0</td>\n",
       "      <td>Not Graduate</td>\n",
       "      <td>No</td>\n",
       "      <td>2583</td>\n",
       "      <td>2358.0</td>\n",
       "      <td>120.0</td>\n",
       "      <td>360.0</td>\n",
       "      <td>1.0</td>\n",
       "      <td>Urban</td>\n",
       "      <td>Y</td>\n",
       "    </tr>\n",
       "    <tr>\n",
       "      <th>4</th>\n",
       "      <td>LP001008</td>\n",
       "      <td>Male</td>\n",
       "      <td>No</td>\n",
       "      <td>0</td>\n",
       "      <td>Graduate</td>\n",
       "      <td>No</td>\n",
       "      <td>6000</td>\n",
       "      <td>0.0</td>\n",
       "      <td>141.0</td>\n",
       "      <td>360.0</td>\n",
       "      <td>1.0</td>\n",
       "      <td>Urban</td>\n",
       "      <td>Y</td>\n",
       "    </tr>\n",
       "    <tr>\n",
       "      <th>...</th>\n",
       "      <td>...</td>\n",
       "      <td>...</td>\n",
       "      <td>...</td>\n",
       "      <td>...</td>\n",
       "      <td>...</td>\n",
       "      <td>...</td>\n",
       "      <td>...</td>\n",
       "      <td>...</td>\n",
       "      <td>...</td>\n",
       "      <td>...</td>\n",
       "      <td>...</td>\n",
       "      <td>...</td>\n",
       "      <td>...</td>\n",
       "    </tr>\n",
       "    <tr>\n",
       "      <th>609</th>\n",
       "      <td>LP002978</td>\n",
       "      <td>Female</td>\n",
       "      <td>No</td>\n",
       "      <td>0</td>\n",
       "      <td>Graduate</td>\n",
       "      <td>No</td>\n",
       "      <td>2900</td>\n",
       "      <td>0.0</td>\n",
       "      <td>71.0</td>\n",
       "      <td>360.0</td>\n",
       "      <td>1.0</td>\n",
       "      <td>Rural</td>\n",
       "      <td>Y</td>\n",
       "    </tr>\n",
       "    <tr>\n",
       "      <th>610</th>\n",
       "      <td>LP002979</td>\n",
       "      <td>Male</td>\n",
       "      <td>Yes</td>\n",
       "      <td>3+</td>\n",
       "      <td>Graduate</td>\n",
       "      <td>No</td>\n",
       "      <td>4106</td>\n",
       "      <td>0.0</td>\n",
       "      <td>40.0</td>\n",
       "      <td>180.0</td>\n",
       "      <td>1.0</td>\n",
       "      <td>Rural</td>\n",
       "      <td>Y</td>\n",
       "    </tr>\n",
       "    <tr>\n",
       "      <th>611</th>\n",
       "      <td>LP002983</td>\n",
       "      <td>Male</td>\n",
       "      <td>Yes</td>\n",
       "      <td>1</td>\n",
       "      <td>Graduate</td>\n",
       "      <td>No</td>\n",
       "      <td>8072</td>\n",
       "      <td>240.0</td>\n",
       "      <td>253.0</td>\n",
       "      <td>360.0</td>\n",
       "      <td>1.0</td>\n",
       "      <td>Urban</td>\n",
       "      <td>Y</td>\n",
       "    </tr>\n",
       "    <tr>\n",
       "      <th>612</th>\n",
       "      <td>LP002984</td>\n",
       "      <td>Male</td>\n",
       "      <td>Yes</td>\n",
       "      <td>2</td>\n",
       "      <td>Graduate</td>\n",
       "      <td>No</td>\n",
       "      <td>7583</td>\n",
       "      <td>0.0</td>\n",
       "      <td>187.0</td>\n",
       "      <td>360.0</td>\n",
       "      <td>1.0</td>\n",
       "      <td>Urban</td>\n",
       "      <td>Y</td>\n",
       "    </tr>\n",
       "    <tr>\n",
       "      <th>613</th>\n",
       "      <td>LP002990</td>\n",
       "      <td>Female</td>\n",
       "      <td>No</td>\n",
       "      <td>0</td>\n",
       "      <td>Graduate</td>\n",
       "      <td>Yes</td>\n",
       "      <td>4583</td>\n",
       "      <td>0.0</td>\n",
       "      <td>133.0</td>\n",
       "      <td>360.0</td>\n",
       "      <td>0.0</td>\n",
       "      <td>Semiurban</td>\n",
       "      <td>N</td>\n",
       "    </tr>\n",
       "  </tbody>\n",
       "</table>\n",
       "<p>614 rows × 13 columns</p>\n",
       "</div>"
      ],
      "text/plain": [
       "      Loan_ID  Gender Married Dependents     Education Self_Employed  \\\n",
       "0    LP001002    Male      No          0      Graduate            No   \n",
       "1    LP001003    Male     Yes          1      Graduate            No   \n",
       "2    LP001005    Male     Yes          0      Graduate           Yes   \n",
       "3    LP001006    Male     Yes          0  Not Graduate            No   \n",
       "4    LP001008    Male      No          0      Graduate            No   \n",
       "..        ...     ...     ...        ...           ...           ...   \n",
       "609  LP002978  Female      No          0      Graduate            No   \n",
       "610  LP002979    Male     Yes         3+      Graduate            No   \n",
       "611  LP002983    Male     Yes          1      Graduate            No   \n",
       "612  LP002984    Male     Yes          2      Graduate            No   \n",
       "613  LP002990  Female      No          0      Graduate           Yes   \n",
       "\n",
       "     ApplicantIncome  CoapplicantIncome  LoanAmount  Loan_Amount_Term  \\\n",
       "0               5849                0.0         NaN             360.0   \n",
       "1               4583             1508.0       128.0             360.0   \n",
       "2               3000                0.0        66.0             360.0   \n",
       "3               2583             2358.0       120.0             360.0   \n",
       "4               6000                0.0       141.0             360.0   \n",
       "..               ...                ...         ...               ...   \n",
       "609             2900                0.0        71.0             360.0   \n",
       "610             4106                0.0        40.0             180.0   \n",
       "611             8072              240.0       253.0             360.0   \n",
       "612             7583                0.0       187.0             360.0   \n",
       "613             4583                0.0       133.0             360.0   \n",
       "\n",
       "     Credit_History Property_Area Loan_Status  \n",
       "0               1.0         Urban           Y  \n",
       "1               1.0         Rural           N  \n",
       "2               1.0         Urban           Y  \n",
       "3               1.0         Urban           Y  \n",
       "4               1.0         Urban           Y  \n",
       "..              ...           ...         ...  \n",
       "609             1.0         Rural           Y  \n",
       "610             1.0         Rural           Y  \n",
       "611             1.0         Urban           Y  \n",
       "612             1.0         Urban           Y  \n",
       "613             0.0     Semiurban           N  \n",
       "\n",
       "[614 rows x 13 columns]"
      ]
     },
     "execution_count": 3,
     "metadata": {},
     "output_type": "execute_result"
    }
   ],
   "source": [
    "df = pd.read_csv('loan-train.csv')\n",
    "df"
   ]
  },
  {
   "cell_type": "markdown",
   "id": "63bdb93a",
   "metadata": {},
   "source": [
    "## EDA"
   ]
  },
  {
   "cell_type": "code",
   "execution_count": 4,
   "id": "2625ff71",
   "metadata": {},
   "outputs": [
    {
     "name": "stdout",
     "output_type": "stream",
     "text": [
      "<class 'pandas.core.frame.DataFrame'>\n",
      "RangeIndex: 614 entries, 0 to 613\n",
      "Data columns (total 13 columns):\n",
      " #   Column             Non-Null Count  Dtype  \n",
      "---  ------             --------------  -----  \n",
      " 0   Loan_ID            614 non-null    object \n",
      " 1   Gender             601 non-null    object \n",
      " 2   Married            611 non-null    object \n",
      " 3   Dependents         599 non-null    object \n",
      " 4   Education          614 non-null    object \n",
      " 5   Self_Employed      582 non-null    object \n",
      " 6   ApplicantIncome    614 non-null    int64  \n",
      " 7   CoapplicantIncome  614 non-null    float64\n",
      " 8   LoanAmount         592 non-null    float64\n",
      " 9   Loan_Amount_Term   600 non-null    float64\n",
      " 10  Credit_History     564 non-null    float64\n",
      " 11  Property_Area      614 non-null    object \n",
      " 12  Loan_Status        614 non-null    object \n",
      "dtypes: float64(4), int64(1), object(8)\n",
      "memory usage: 62.5+ KB\n"
     ]
    }
   ],
   "source": [
    "# 'Finding the details of DataFrame like what is the datatype of each columns and \n",
    "#  how many non-null values are there'\n",
    "\n",
    "df.info()"
   ]
  },
  {
   "cell_type": "code",
   "execution_count": 5,
   "id": "0aa96334",
   "metadata": {},
   "outputs": [
    {
     "data": {
      "text/plain": [
       "Loan_ID               0\n",
       "Gender               13\n",
       "Married               3\n",
       "Dependents           15\n",
       "Education             0\n",
       "Self_Employed        32\n",
       "ApplicantIncome       0\n",
       "CoapplicantIncome     0\n",
       "LoanAmount           22\n",
       "Loan_Amount_Term     14\n",
       "Credit_History       50\n",
       "Property_Area         0\n",
       "Loan_Status           0\n",
       "dtype: int64"
      ]
     },
     "execution_count": 5,
     "metadata": {},
     "output_type": "execute_result"
    }
   ],
   "source": [
    "# To check the null values in the DataFrame\n",
    "df.isna().sum()"
   ]
  },
  {
   "cell_type": "markdown",
   "id": "33b3bb5b",
   "metadata": {},
   "source": [
    "#### Finding the unique values in each column of the DataFrame"
   ]
  },
  {
   "cell_type": "code",
   "execution_count": 6,
   "id": "e68e61a9",
   "metadata": {},
   "outputs": [
    {
     "data": {
      "text/plain": [
       "LP002281    1\n",
       "LP001565    1\n",
       "LP002493    1\n",
       "LP002740    1\n",
       "LP001751    1\n",
       "           ..\n",
       "LP002502    1\n",
       "LP001770    1\n",
       "LP001473    1\n",
       "LP002533    1\n",
       "LP001998    1\n",
       "Name: Loan_ID, Length: 614, dtype: int64"
      ]
     },
     "execution_count": 6,
     "metadata": {},
     "output_type": "execute_result"
    }
   ],
   "source": [
    "df['Loan_ID'].value_counts()\n",
    "\n",
    "# each value in 'Loan_ID' columns is unique, so we can drop it as it will not affect our dataframe."
   ]
  },
  {
   "cell_type": "code",
   "execution_count": 7,
   "id": "aa16736a",
   "metadata": {},
   "outputs": [
    {
     "data": {
      "text/plain": [
       "Male      489\n",
       "Female    112\n",
       "Name: Gender, dtype: int64"
      ]
     },
     "execution_count": 7,
     "metadata": {},
     "output_type": "execute_result"
    }
   ],
   "source": [
    "df['Gender'].value_counts()\n",
    "\n",
    "# We can drop 'Gender' column as it will not affect the loan eligibility of an individual."
   ]
  },
  {
   "cell_type": "code",
   "execution_count": 8,
   "id": "5479731e",
   "metadata": {},
   "outputs": [
    {
     "data": {
      "text/plain": [
       "Yes    398\n",
       "No     213\n",
       "Name: Married, dtype: int64"
      ]
     },
     "execution_count": 8,
     "metadata": {},
     "output_type": "execute_result"
    }
   ],
   "source": [
    "df['Married'].value_counts()\n",
    "\n",
    "# Marital status does not affect the loan eligibility, so we can drop this feature as well."
   ]
  },
  {
   "cell_type": "code",
   "execution_count": 9,
   "id": "5f909d9c",
   "metadata": {},
   "outputs": [
    {
     "data": {
      "text/plain": [
       "0     345\n",
       "1     102\n",
       "2     101\n",
       "3+     51\n",
       "Name: Dependents, dtype: int64"
      ]
     },
     "execution_count": 9,
     "metadata": {},
     "output_type": "execute_result"
    }
   ],
   "source": [
    "df['Dependents'].value_counts()\n",
    "\n",
    "# Number of dependants is an important aspect,so we need to consider it while checking loan eligibility."
   ]
  },
  {
   "cell_type": "code",
   "execution_count": 10,
   "id": "511c3462",
   "metadata": {},
   "outputs": [
    {
     "data": {
      "text/plain": [
       "Graduate        480\n",
       "Not Graduate    134\n",
       "Name: Education, dtype: int64"
      ]
     },
     "execution_count": 10,
     "metadata": {},
     "output_type": "execute_result"
    }
   ],
   "source": [
    "df['Education'].value_counts()\n",
    "\n",
    "# Education is also one of the important features which needs to be taken under consideration."
   ]
  },
  {
   "cell_type": "code",
   "execution_count": 11,
   "id": "bf6e9c76",
   "metadata": {},
   "outputs": [
    {
     "data": {
      "text/plain": [
       "No     500\n",
       "Yes     82\n",
       "Name: Self_Employed, dtype: int64"
      ]
     },
     "execution_count": 11,
     "metadata": {},
     "output_type": "execute_result"
    }
   ],
   "source": [
    "df['Self_Employed'].value_counts()\n",
    "\n",
    "# Employment criteria is also the important one to be taken into consideration for loan eligibility."
   ]
  },
  {
   "cell_type": "code",
   "execution_count": 12,
   "id": "1a88500a",
   "metadata": {},
   "outputs": [
    {
     "data": {
      "text/plain": [
       "2500    9\n",
       "6000    6\n",
       "2600    6\n",
       "4583    6\n",
       "4166    5\n",
       "       ..\n",
       "5503    1\n",
       "3450    1\n",
       "2425    1\n",
       "2423    1\n",
       "4095    1\n",
       "Name: ApplicantIncome, Length: 505, dtype: int64"
      ]
     },
     "execution_count": 12,
     "metadata": {},
     "output_type": "execute_result"
    }
   ],
   "source": [
    "df['ApplicantIncome'].value_counts()\n",
    "\n",
    "# ApplicantIncome is the most import criteria to be considered for loan eligibility."
   ]
  },
  {
   "cell_type": "code",
   "execution_count": 13,
   "id": "44d6d4c0",
   "metadata": {},
   "outputs": [
    {
     "data": {
      "text/plain": [
       "0.0       273\n",
       "2500.0      5\n",
       "2083.0      5\n",
       "1666.0      5\n",
       "1625.0      3\n",
       "         ... \n",
       "2365.0      1\n",
       "1695.0      1\n",
       "2466.0      1\n",
       "2375.0      1\n",
       "1700.0      1\n",
       "Name: CoapplicantIncome, Length: 287, dtype: int64"
      ]
     },
     "execution_count": 13,
     "metadata": {},
     "output_type": "execute_result"
    }
   ],
   "source": [
    "df['CoapplicantIncome'].value_counts()\n",
    "\n",
    "# Coapplicant income is the second most import criteria to be considered for loan eligibility."
   ]
  },
  {
   "cell_type": "code",
   "execution_count": 14,
   "id": "39ce90a2",
   "metadata": {},
   "outputs": [
    {
     "data": {
      "text/plain": [
       "120.0    20\n",
       "110.0    17\n",
       "100.0    15\n",
       "160.0    12\n",
       "187.0    12\n",
       "         ..\n",
       "211.0     1\n",
       "250.0     1\n",
       "62.0      1\n",
       "85.0      1\n",
       "436.0     1\n",
       "Name: LoanAmount, Length: 203, dtype: int64"
      ]
     },
     "execution_count": 14,
     "metadata": {},
     "output_type": "execute_result"
    }
   ],
   "source": [
    "df['LoanAmount'].value_counts()\n",
    "\n",
    "# These are the basic important features needs to be considered for checking loan eligibility."
   ]
  },
  {
   "cell_type": "code",
   "execution_count": 15,
   "id": "3068bd05",
   "metadata": {},
   "outputs": [
    {
     "data": {
      "text/plain": [
       "360.0    512\n",
       "180.0     44\n",
       "480.0     15\n",
       "300.0     13\n",
       "84.0       4\n",
       "240.0      4\n",
       "120.0      3\n",
       "36.0       2\n",
       "60.0       2\n",
       "12.0       1\n",
       "Name: Loan_Amount_Term, dtype: int64"
      ]
     },
     "execution_count": 15,
     "metadata": {},
     "output_type": "execute_result"
    }
   ],
   "source": [
    "df['Loan_Amount_Term'].value_counts()\n",
    "\n",
    "# These are the basic important features needs to be considered for checking loan eligibility."
   ]
  },
  {
   "cell_type": "code",
   "execution_count": 16,
   "id": "ea5428ab",
   "metadata": {},
   "outputs": [
    {
     "data": {
      "text/plain": [
       "1.0    475\n",
       "0.0     89\n",
       "Name: Credit_History, dtype: int64"
      ]
     },
     "execution_count": 16,
     "metadata": {},
     "output_type": "execute_result"
    }
   ],
   "source": [
    "df['Credit_History'].value_counts()\n",
    "\n",
    "# Checking applicants past credit history is also important from loan eligibility perspective."
   ]
  },
  {
   "cell_type": "code",
   "execution_count": 17,
   "id": "54440eb4",
   "metadata": {},
   "outputs": [
    {
     "data": {
      "text/plain": [
       "Semiurban    233\n",
       "Urban        202\n",
       "Rural        179\n",
       "Name: Property_Area, dtype: int64"
      ]
     },
     "execution_count": 17,
     "metadata": {},
     "output_type": "execute_result"
    }
   ],
   "source": [
    "df['Property_Area'].value_counts()\n",
    "\n",
    "# Checking property area is also important for finalizing the loan amount and applicant's eligibility."
   ]
  },
  {
   "cell_type": "markdown",
   "id": "0f3a52b5",
   "metadata": {},
   "source": [
    "## Feature Engineering"
   ]
  },
  {
   "cell_type": "code",
   "execution_count": 18,
   "id": "90cbccd6",
   "metadata": {},
   "outputs": [],
   "source": [
    "# Dropping the features which are less important while checking loan eligibility.\n",
    "df.drop('Loan_ID',axis = 1,inplace=True)\n",
    "df.drop('Married',axis = 1,inplace=True)\n",
    "df.drop('Gender',axis = 1,inplace=True)"
   ]
  },
  {
   "cell_type": "markdown",
   "id": "415ce19d",
   "metadata": {},
   "source": [
    "#### Changing the Datatype from object to float/int"
   ]
  },
  {
   "cell_type": "code",
   "execution_count": 19,
   "id": "d3b1bb9d",
   "metadata": {},
   "outputs": [
    {
     "data": {
      "text/plain": [
       "{'0': 345, '1': 102, '2': 101, '3+': 51}"
      ]
     },
     "execution_count": 19,
     "metadata": {},
     "output_type": "execute_result"
    }
   ],
   "source": [
    "df['Dependents'].value_counts().to_dict()"
   ]
  },
  {
   "cell_type": "code",
   "execution_count": 20,
   "id": "cd18006c",
   "metadata": {
    "scrolled": true
   },
   "outputs": [],
   "source": [
    "df['Dependents'].replace({'0': 0, '1': 1, '2': 2, '3+': 3}, inplace=True)"
   ]
  },
  {
   "cell_type": "code",
   "execution_count": 21,
   "id": "6436d404",
   "metadata": {},
   "outputs": [
    {
     "data": {
      "text/plain": [
       "{'Graduate': 480, 'Not Graduate': 134}"
      ]
     },
     "execution_count": 21,
     "metadata": {},
     "output_type": "execute_result"
    }
   ],
   "source": [
    "df['Education'].value_counts().to_dict()"
   ]
  },
  {
   "cell_type": "code",
   "execution_count": 22,
   "id": "4abc331b",
   "metadata": {},
   "outputs": [],
   "source": [
    "df['Education'].replace({'Graduate': 1, 'Not Graduate': 0},inplace=True)"
   ]
  },
  {
   "cell_type": "code",
   "execution_count": 23,
   "id": "dad3c6ca",
   "metadata": {},
   "outputs": [
    {
     "data": {
      "text/plain": [
       "{'No': 500, 'Yes': 82}"
      ]
     },
     "execution_count": 23,
     "metadata": {},
     "output_type": "execute_result"
    }
   ],
   "source": [
    "df['Self_Employed'].value_counts().to_dict()"
   ]
  },
  {
   "cell_type": "code",
   "execution_count": 24,
   "id": "e19950ea",
   "metadata": {},
   "outputs": [],
   "source": [
    "df['Self_Employed'].replace({'No': 0, 'Yes': 1},inplace=True)"
   ]
  },
  {
   "cell_type": "code",
   "execution_count": 25,
   "id": "bbff83e9",
   "metadata": {},
   "outputs": [
    {
     "data": {
      "text/plain": [
       "{'Semiurban': 233, 'Urban': 202, 'Rural': 179}"
      ]
     },
     "execution_count": 25,
     "metadata": {},
     "output_type": "execute_result"
    }
   ],
   "source": [
    "df['Property_Area'].value_counts().to_dict()"
   ]
  },
  {
   "cell_type": "code",
   "execution_count": 26,
   "id": "b5539ff1",
   "metadata": {
    "scrolled": true
   },
   "outputs": [
    {
     "data": {
      "text/plain": [
       "1    233\n",
       "2    202\n",
       "0    179\n",
       "Name: Property_Area, dtype: int64"
      ]
     },
     "execution_count": 26,
     "metadata": {},
     "output_type": "execute_result"
    }
   ],
   "source": [
    "label_enc = LabelEncoder()\n",
    "df['Property_Area'] = label_enc.fit_transform(df['Property_Area'])\n",
    "df['Property_Area'].value_counts()"
   ]
  },
  {
   "cell_type": "code",
   "execution_count": 27,
   "id": "510753c7",
   "metadata": {
    "scrolled": true
   },
   "outputs": [
    {
     "name": "stdout",
     "output_type": "stream",
     "text": [
      "<class 'pandas.core.frame.DataFrame'>\n",
      "RangeIndex: 614 entries, 0 to 613\n",
      "Data columns (total 10 columns):\n",
      " #   Column             Non-Null Count  Dtype  \n",
      "---  ------             --------------  -----  \n",
      " 0   Dependents         599 non-null    float64\n",
      " 1   Education          614 non-null    int64  \n",
      " 2   Self_Employed      582 non-null    float64\n",
      " 3   ApplicantIncome    614 non-null    int64  \n",
      " 4   CoapplicantIncome  614 non-null    float64\n",
      " 5   LoanAmount         592 non-null    float64\n",
      " 6   Loan_Amount_Term   600 non-null    float64\n",
      " 7   Credit_History     564 non-null    float64\n",
      " 8   Property_Area      614 non-null    int32  \n",
      " 9   Loan_Status        614 non-null    object \n",
      "dtypes: float64(6), int32(1), int64(2), object(1)\n",
      "memory usage: 45.7+ KB\n"
     ]
    }
   ],
   "source": [
    "df.info()"
   ]
  },
  {
   "cell_type": "code",
   "execution_count": 28,
   "id": "c3587af0",
   "metadata": {},
   "outputs": [
    {
     "data": {
      "text/plain": [
       "{'Y': 422, 'N': 192}"
      ]
     },
     "execution_count": 28,
     "metadata": {},
     "output_type": "execute_result"
    }
   ],
   "source": [
    "df['Loan_Status'].value_counts().to_dict()"
   ]
  },
  {
   "cell_type": "code",
   "execution_count": 29,
   "id": "af31f5be",
   "metadata": {},
   "outputs": [],
   "source": [
    "df['Loan_Status'].replace({'Y': 1, 'N': 0},inplace = True)"
   ]
  },
  {
   "cell_type": "markdown",
   "id": "ec969276",
   "metadata": {},
   "source": [
    "#### Filling The null values"
   ]
  },
  {
   "cell_type": "code",
   "execution_count": 30,
   "id": "f6669976",
   "metadata": {
    "scrolled": true
   },
   "outputs": [
    {
     "data": {
      "text/plain": [
       "Dependents           2.442997\n",
       "Education            0.000000\n",
       "Self_Employed        5.211726\n",
       "ApplicantIncome      0.000000\n",
       "CoapplicantIncome    0.000000\n",
       "LoanAmount           3.583062\n",
       "Loan_Amount_Term     2.280130\n",
       "Credit_History       8.143322\n",
       "Property_Area        0.000000\n",
       "Loan_Status          0.000000\n",
       "dtype: float64"
      ]
     },
     "execution_count": 30,
     "metadata": {},
     "output_type": "execute_result"
    }
   ],
   "source": [
    "df.isna().mean()*100"
   ]
  },
  {
   "cell_type": "code",
   "execution_count": 31,
   "id": "048a4961",
   "metadata": {},
   "outputs": [],
   "source": [
    "# Dependents,Self_Employed and Credit_History columns are categorical so, we can fill the NaN values with mode.\n",
    "\n",
    "mode = df['Dependents'].mode()[0]\n",
    "df['Dependents'].fillna(mode,inplace = True)\n",
    "\n",
    "# ********************************************************* #\n",
    "\n",
    "mode = df['Self_Employed'].mode()[0]\n",
    "df['Self_Employed'].fillna(mode,inplace = True)\n",
    "\n",
    "# ********************************************************* #\n",
    "\n",
    "mode = df['Credit_History'].mode()[0]\n",
    "df['Credit_History'].fillna(mode,inplace = True)\n",
    "    "
   ]
  },
  {
   "cell_type": "code",
   "execution_count": 32,
   "id": "01c8fa14",
   "metadata": {},
   "outputs": [],
   "source": [
    "# LoanAmount and Loan_Amount_Term are Continuous columns so, need to fill the NaN values with mean\n",
    "\n",
    "mean = df['LoanAmount'].mean()\n",
    "df['LoanAmount'].fillna(mean,inplace = True)\n",
    "\n",
    "# ********************************************************* #\n",
    "\n",
    "mean = df['Loan_Amount_Term'].mean()\n",
    "df['Loan_Amount_Term'].fillna(mean,inplace = True)"
   ]
  },
  {
   "cell_type": "code",
   "execution_count": 33,
   "id": "dd6a1b57",
   "metadata": {},
   "outputs": [
    {
     "data": {
      "text/plain": [
       "Dependents           0\n",
       "Education            0\n",
       "Self_Employed        0\n",
       "ApplicantIncome      0\n",
       "CoapplicantIncome    0\n",
       "LoanAmount           0\n",
       "Loan_Amount_Term     0\n",
       "Credit_History       0\n",
       "Property_Area        0\n",
       "Loan_Status          0\n",
       "dtype: int64"
      ]
     },
     "execution_count": 33,
     "metadata": {},
     "output_type": "execute_result"
    }
   ],
   "source": [
    "# Checking if there are any Null values pending in the given DataFrame\n",
    "df.isna().sum()"
   ]
  },
  {
   "cell_type": "code",
   "execution_count": 34,
   "id": "f8bc6f2d",
   "metadata": {},
   "outputs": [],
   "source": [
    "# We have changed the Datatype of all the feature to int or Float. \n",
    "# We have also filled all the NaN values in the DataFrame.\n",
    "# Now we will move for the feature selection Method and further model training procedures."
   ]
  },
  {
   "cell_type": "markdown",
   "id": "ef0bc5c0",
   "metadata": {},
   "source": [
    "## Feature Selection"
   ]
  },
  {
   "cell_type": "code",
   "execution_count": 35,
   "id": "b4ac4f3b",
   "metadata": {},
   "outputs": [
    {
     "data": {
      "text/html": [
       "<div>\n",
       "<style scoped>\n",
       "    .dataframe tbody tr th:only-of-type {\n",
       "        vertical-align: middle;\n",
       "    }\n",
       "\n",
       "    .dataframe tbody tr th {\n",
       "        vertical-align: top;\n",
       "    }\n",
       "\n",
       "    .dataframe thead th {\n",
       "        text-align: right;\n",
       "    }\n",
       "</style>\n",
       "<table border=\"1\" class=\"dataframe\">\n",
       "  <thead>\n",
       "    <tr style=\"text-align: right;\">\n",
       "      <th></th>\n",
       "      <th>Dependents</th>\n",
       "      <th>Education</th>\n",
       "      <th>Self_Employed</th>\n",
       "      <th>ApplicantIncome</th>\n",
       "      <th>CoapplicantIncome</th>\n",
       "      <th>LoanAmount</th>\n",
       "      <th>Loan_Amount_Term</th>\n",
       "      <th>Credit_History</th>\n",
       "      <th>Property_Area</th>\n",
       "      <th>Loan_Status</th>\n",
       "    </tr>\n",
       "  </thead>\n",
       "  <tbody>\n",
       "    <tr>\n",
       "      <th>Loan_Status</th>\n",
       "      <td>0.008447</td>\n",
       "      <td>0.085884</td>\n",
       "      <td>-0.0037</td>\n",
       "      <td>-0.003403</td>\n",
       "      <td>0.03046</td>\n",
       "      <td>-0.035654</td>\n",
       "      <td>-0.011417</td>\n",
       "      <td>0.540556</td>\n",
       "      <td>0.028118</td>\n",
       "      <td>1.0</td>\n",
       "    </tr>\n",
       "  </tbody>\n",
       "</table>\n",
       "</div>"
      ],
      "text/plain": [
       "             Dependents  Education  Self_Employed  ApplicantIncome  \\\n",
       "Loan_Status    0.008447   0.085884        -0.0037        -0.003403   \n",
       "\n",
       "             CoapplicantIncome  LoanAmount  Loan_Amount_Term  Credit_History  \\\n",
       "Loan_Status            0.03046   -0.035654         -0.011417        0.540556   \n",
       "\n",
       "             Property_Area  Loan_Status  \n",
       "Loan_Status       0.028118          1.0  "
      ]
     },
     "execution_count": 35,
     "metadata": {},
     "output_type": "execute_result"
    }
   ],
   "source": [
    "corr = df.corr(method='kendall').tail(1)\n",
    "corr"
   ]
  },
  {
   "cell_type": "code",
   "execution_count": 36,
   "id": "81806ba5",
   "metadata": {},
   "outputs": [
    {
     "data": {
      "text/plain": [
       "set()"
      ]
     },
     "execution_count": 36,
     "metadata": {},
     "output_type": "execute_result"
    }
   ],
   "source": [
    "#Features arehaving good correlation(R>=0.8)\n",
    "def Correlation(df,threshold):\n",
    "    col_corr=set()\n",
    "    corr_matrix = df.corr()\n",
    "    for i in range(len(corr_matrix.columns)):\n",
    "        for j in range(i):\n",
    "            if abs(corr_matrix.iloc[i,j]) > threshold:\n",
    "                colname = corr_matrix.columns[i]\n",
    "                col_corr.update({colname:corr_matrix})\n",
    "    return col_corr\n",
    "\n",
    "Correlation(df,0.8)"
   ]
  },
  {
   "cell_type": "raw",
   "id": "fc583889",
   "metadata": {},
   "source": [
    "By following the above processes we can say that there is no good relationship between the dependent and independent variables. \n",
    "Also the features are not lineary related to one another. So, we cannot apply the Regression algorithm on such data.\n",
    "Although we will train the model using Logistic regression to see if we get considerable accuracy."
   ]
  },
  {
   "cell_type": "markdown",
   "id": "4ed3af30",
   "metadata": {},
   "source": [
    "### Splitting the data"
   ]
  },
  {
   "cell_type": "code",
   "execution_count": 37,
   "id": "52d19c4f",
   "metadata": {},
   "outputs": [],
   "source": [
    "x = df.drop('Loan_Status',axis = 1)\n",
    "y = df['Loan_Status']"
   ]
  },
  {
   "cell_type": "code",
   "execution_count": 38,
   "id": "a7fb671d",
   "metadata": {},
   "outputs": [],
   "source": [
    "x_train,x_test,y_train,y_test = train_test_split(x,y,random_state=23,test_size=0.25,stratify=y)"
   ]
  },
  {
   "cell_type": "markdown",
   "id": "230d1abd",
   "metadata": {},
   "source": [
    "# Model Training"
   ]
  },
  {
   "cell_type": "markdown",
   "id": "d3a0ded5",
   "metadata": {},
   "source": [
    "### Training Model using Logistic Regression"
   ]
  },
  {
   "cell_type": "code",
   "execution_count": 39,
   "id": "bd718ac6",
   "metadata": {},
   "outputs": [
    {
     "name": "stderr",
     "output_type": "stream",
     "text": [
      "C:\\Users\\Hp\\anaconda3\\lib\\site-packages\\sklearn\\linear_model\\_logistic.py:763: ConvergenceWarning: lbfgs failed to converge (status=1):\n",
      "STOP: TOTAL NO. of ITERATIONS REACHED LIMIT.\n",
      "\n",
      "Increase the number of iterations (max_iter) or scale the data as shown in:\n",
      "    https://scikit-learn.org/stable/modules/preprocessing.html\n",
      "Please also refer to the documentation for alternative solver options:\n",
      "    https://scikit-learn.org/stable/modules/linear_model.html#logistic-regression\n",
      "  n_iter_i = _check_optimize_result(\n"
     ]
    },
    {
     "data": {
      "text/plain": [
       "LogisticRegression()"
      ]
     },
     "execution_count": 39,
     "metadata": {},
     "output_type": "execute_result"
    }
   ],
   "source": [
    "log_model = LogisticRegression()\n",
    "log_model.fit(x_train,y_train)"
   ]
  },
  {
   "cell_type": "markdown",
   "id": "7176795d",
   "metadata": {},
   "source": [
    "### Logistic Regression Model Evaluation"
   ]
  },
  {
   "cell_type": "code",
   "execution_count": 40,
   "id": "62b23d89",
   "metadata": {},
   "outputs": [
    {
     "name": "stdout",
     "output_type": "stream",
     "text": [
      "Classification report is:               precision    recall  f1-score   support\n",
      "\n",
      "           0       0.87      0.42      0.56        48\n",
      "           1       0.79      0.97      0.87       106\n",
      "\n",
      "    accuracy                           0.80       154\n",
      "   macro avg       0.83      0.69      0.72       154\n",
      "weighted avg       0.81      0.80      0.77       154\n",
      "\n",
      "Confusion matrix is: [[ 20  28]\n",
      " [  3 103]]\n",
      "accuracy score is: 0.7987012987012987\n"
     ]
    }
   ],
   "source": [
    "# Testing Data Evaluation\n",
    "y_pred = log_model.predict(x_test)\n",
    "\n",
    "clf_report = classification_report(y_test,y_pred)\n",
    "print('Classification report is:',clf_report)\n",
    "\n",
    "cnf_matrix = confusion_matrix(y_test,y_pred)\n",
    "print('Confusion matrix is:',cnf_matrix)\n",
    "\n",
    "acc_score = accuracy_score(y_test,y_pred)\n",
    "print('accuracy score is:',acc_score)"
   ]
  },
  {
   "cell_type": "code",
   "execution_count": 41,
   "id": "46e650b6",
   "metadata": {},
   "outputs": [
    {
     "name": "stdout",
     "output_type": "stream",
     "text": [
      "Classification report is:               precision    recall  f1-score   support\n",
      "\n",
      "           0       0.91      0.44      0.59       144\n",
      "           1       0.79      0.98      0.88       316\n",
      "\n",
      "    accuracy                           0.81       460\n",
      "   macro avg       0.85      0.71      0.73       460\n",
      "weighted avg       0.83      0.81      0.79       460\n",
      "\n",
      "Confusion matrix is: [[ 63  81]\n",
      " [  6 310]]\n",
      "accuracy score is: 0.8108695652173913\n"
     ]
    }
   ],
   "source": [
    "# Testing Data Evaluation\n",
    "y_pred_train = log_model.predict(x_train)\n",
    "\n",
    "clf_report = classification_report(y_train,y_pred_train)\n",
    "print('Classification report is:',clf_report)\n",
    "\n",
    "cnf_matrix = confusion_matrix(y_train,y_pred_train)\n",
    "print('Confusion matrix is:',cnf_matrix)\n",
    "\n",
    "acc_score = accuracy_score(y_train,y_pred_train)\n",
    "print('accuracy score is:',acc_score)"
   ]
  },
  {
   "cell_type": "code",
   "execution_count": 42,
   "id": "d8f74964",
   "metadata": {},
   "outputs": [],
   "source": [
    "# ROC & AUC Curve\n",
    "y_pred_prob = log_model.predict_proba(x_train)\n",
    "fpr,tpr,threshold = roc_curve(y_train,y_pred_prob[:,1])\n"
   ]
  },
  {
   "cell_type": "code",
   "execution_count": 43,
   "id": "1a58ad3a",
   "metadata": {},
   "outputs": [
    {
     "data": {
      "image/png": "[encoded data removed]",
      "text/plain": [
       "<Figure size 432x288 with 1 Axes>"
      ]
     },
     "metadata": {
      "needs_background": "light"
     },
     "output_type": "display_data"
    }
   ],
   "source": [
    "plt.plot(fpr,tpr)\n",
    "plt.xlabel('False Positive Rate')\n",
    "plt.ylabel('True Positive Rate')\n",
    "plt.title('ROC Curve')\n",
    "plt.savefig('ROC_Loan_Model.png')"
   ]
  },
  {
   "cell_type": "code",
   "execution_count": 44,
   "id": "a990e154",
   "metadata": {},
   "outputs": [
    {
     "data": {
      "text/plain": [
       "0.7613176863572433"
      ]
     },
     "execution_count": 44,
     "metadata": {},
     "output_type": "execute_result"
    }
   ],
   "source": [
    "roc_auc_score(y_train,y_pred_prob[:,1])"
   ]
  },
  {
   "cell_type": "markdown",
   "id": "1e28cbe0",
   "metadata": {},
   "source": [
    "### Training Model using KNN Classifier"
   ]
  },
  {
   "cell_type": "code",
   "execution_count": 45,
   "id": "525c25a4",
   "metadata": {},
   "outputs": [
    {
     "data": {
      "text/plain": [
       "KNeighborsClassifier()"
      ]
     },
     "execution_count": 45,
     "metadata": {},
     "output_type": "execute_result"
    }
   ],
   "source": [
    "knn_model1 = KNeighborsClassifier()\n",
    "knn_model1.fit(x_train,y_train)"
   ]
  },
  {
   "cell_type": "markdown",
   "id": "42476e09",
   "metadata": {},
   "source": [
    "### KNN Model Evaluation"
   ]
  },
  {
   "cell_type": "code",
   "execution_count": 46,
   "id": "cce4cdbe",
   "metadata": {},
   "outputs": [
    {
     "name": "stdout",
     "output_type": "stream",
     "text": [
      "Classification report is:               precision    recall  f1-score   support\n",
      "\n",
      "           0       0.91      0.44      0.59       144\n",
      "           1       0.79      0.98      0.88       316\n",
      "\n",
      "    accuracy                           0.81       460\n",
      "   macro avg       0.85      0.71      0.73       460\n",
      "weighted avg       0.83      0.81      0.79       460\n",
      "\n",
      "Confusion matrix is: [[ 63  81]\n",
      " [  6 310]]\n",
      "accuracy score is: 0.8108695652173913\n"
     ]
    }
   ],
   "source": [
    "# Testing Data Evaluation\n",
    "y_pred = knn_model1.predict(x_test)\n",
    "\n",
    "clf_report1 = classification_report(y_test,y_pred)\n",
    "print('Classification report is:',clf_report)\n",
    "\n",
    "cnf_matrix1 = confusion_matrix(y_test,y_pred)\n",
    "print('Confusion matrix is:',cnf_matrix)\n",
    "\n",
    "acc_score1 = accuracy_score(y_test,y_pred)\n",
    "print('accuracy score is:',acc_score)"
   ]
  },
  {
   "cell_type": "code",
   "execution_count": 47,
   "id": "4c396465",
   "metadata": {},
   "outputs": [
    {
     "name": "stdout",
     "output_type": "stream",
     "text": [
      "Classification report is:               precision    recall  f1-score   support\n",
      "\n",
      "           0       0.91      0.44      0.59       144\n",
      "           1       0.79      0.98      0.88       316\n",
      "\n",
      "    accuracy                           0.81       460\n",
      "   macro avg       0.85      0.71      0.73       460\n",
      "weighted avg       0.83      0.81      0.79       460\n",
      "\n",
      "Confusion matrix is: [[ 63  81]\n",
      " [  6 310]]\n",
      "accuracy score is: 0.8108695652173913\n"
     ]
    }
   ],
   "source": [
    "# Training Data Evaluation\n",
    "y_pred_train = knn_model1.predict(x_train)\n",
    "\n",
    "clf_report1 = classification_report(y_train,y_pred_train)\n",
    "print('Classification report is:',clf_report)\n",
    "\n",
    "cnf_matrix1 = confusion_matrix(y_train,y_pred_train)\n",
    "print('Confusion matrix is:',cnf_matrix)\n",
    "\n",
    "acc_score1 = accuracy_score(y_train,y_pred_train)\n",
    "print('accuracy score is:',acc_score)"
   ]
  },
  {
   "cell_type": "markdown",
   "id": "1545968f",
   "metadata": {},
   "source": [
    "Above accuracies are bad and we cannot consider them while Model building. \n",
    "So, we can go for scaling the feature and train the KNN model once again with \n",
    "the best Hyperparameters."
   ]
  },
  {
   "cell_type": "markdown",
   "id": "ae675dcb",
   "metadata": {},
   "source": [
    "#### Feature Scaling"
   ]
  },
  {
   "cell_type": "code",
   "execution_count": 48,
   "id": "dc742593",
   "metadata": {},
   "outputs": [
    {
     "data": {
      "text/plain": [
       "<AxesSubplot:xlabel='Dependents', ylabel='Density'>"
      ]
     },
     "execution_count": 48,
     "metadata": {},
     "output_type": "execute_result"
    },
    {
     "data": {
      "image/png": "[encoded data removed]",
      "text/plain": [
       "<Figure size 432x288 with 1 Axes>"
      ]
     },
     "metadata": {
      "needs_background": "light"
     },
     "output_type": "display_data"
    }
   ],
   "source": [
    "sns.kdeplot(df['Dependents'],fill = True)"
   ]
  },
  {
   "cell_type": "code",
   "execution_count": 49,
   "id": "b5e36907",
   "metadata": {},
   "outputs": [
    {
     "data": {
      "text/plain": [
       "<AxesSubplot:xlabel='ApplicantIncome', ylabel='Density'>"
      ]
     },
     "execution_count": 49,
     "metadata": {},
     "output_type": "execute_result"
    },
    {
     "data": {
      "image/png": "[encoded data removed]",
      "text/plain": [
       "<Figure size 432x288 with 1 Axes>"
      ]
     },
     "metadata": {
      "needs_background": "light"
     },
     "output_type": "display_data"
    }
   ],
   "source": [
    "sns.kdeplot(df['ApplicantIncome'],fill = True)"
   ]
  },
  {
   "cell_type": "code",
   "execution_count": 50,
   "id": "a40a90b6",
   "metadata": {},
   "outputs": [
    {
     "data": {
      "text/plain": [
       "<AxesSubplot:xlabel='LoanAmount', ylabel='Density'>"
      ]
     },
     "execution_count": 50,
     "metadata": {},
     "output_type": "execute_result"
    },
    {
     "data": {
      "image/png": "[encoded data removed]",
      "text/plain": [
       "<Figure size 432x288 with 1 Axes>"
      ]
     },
     "metadata": {
      "needs_background": "light"
     },
     "output_type": "display_data"
    }
   ],
   "source": [
    "sns.kdeplot(df['LoanAmount'],fill = True)"
   ]
  },
  {
   "cell_type": "markdown",
   "id": "8b6e28f1",
   "metadata": {},
   "source": [
    " From the above graphs, we can say that the features are not normally distributed. So, we can use Normalisation technique for scaling the features.\n"
   ]
  },
  {
   "cell_type": "code",
   "execution_count": 51,
   "id": "61db153f",
   "metadata": {},
   "outputs": [
    {
     "data": {
      "text/plain": [
       "MinMaxScaler()"
      ]
     },
     "execution_count": 51,
     "metadata": {},
     "output_type": "execute_result"
    }
   ],
   "source": [
    "# Normalization\n",
    "normal_scalar = MinMaxScaler()\n",
    "normal_scalar.fit(x)"
   ]
  },
  {
   "cell_type": "code",
   "execution_count": 52,
   "id": "0cee0938",
   "metadata": {},
   "outputs": [
    {
     "data": {
      "text/plain": [
       "(614, 9)"
      ]
     },
     "execution_count": 52,
     "metadata": {},
     "output_type": "execute_result"
    }
   ],
   "source": [
    "normalized_array = normal_scalar.transform(x)\n",
    "normalized_array.shape"
   ]
  },
  {
   "cell_type": "code",
   "execution_count": 53,
   "id": "7383871d",
   "metadata": {},
   "outputs": [
    {
     "data": {
      "text/html": [
       "<div>\n",
       "<style scoped>\n",
       "    .dataframe tbody tr th:only-of-type {\n",
       "        vertical-align: middle;\n",
       "    }\n",
       "\n",
       "    .dataframe tbody tr th {\n",
       "        vertical-align: top;\n",
       "    }\n",
       "\n",
       "    .dataframe thead th {\n",
       "        text-align: right;\n",
       "    }\n",
       "</style>\n",
       "<table border=\"1\" class=\"dataframe\">\n",
       "  <thead>\n",
       "    <tr style=\"text-align: right;\">\n",
       "      <th></th>\n",
       "      <th>Dependents</th>\n",
       "      <th>Education</th>\n",
       "      <th>Self_Employed</th>\n",
       "      <th>ApplicantIncome</th>\n",
       "      <th>CoapplicantIncome</th>\n",
       "      <th>LoanAmount</th>\n",
       "      <th>Loan_Amount_Term</th>\n",
       "      <th>Credit_History</th>\n",
       "      <th>Property_Area</th>\n",
       "    </tr>\n",
       "  </thead>\n",
       "  <tbody>\n",
       "    <tr>\n",
       "      <th>0</th>\n",
       "      <td>0.000000</td>\n",
       "      <td>1.0</td>\n",
       "      <td>0.0</td>\n",
       "      <td>0.070489</td>\n",
       "      <td>0.000000</td>\n",
       "      <td>0.198860</td>\n",
       "      <td>0.743590</td>\n",
       "      <td>1.0</td>\n",
       "      <td>1.0</td>\n",
       "    </tr>\n",
       "    <tr>\n",
       "      <th>1</th>\n",
       "      <td>0.333333</td>\n",
       "      <td>1.0</td>\n",
       "      <td>0.0</td>\n",
       "      <td>0.054830</td>\n",
       "      <td>0.036192</td>\n",
       "      <td>0.172214</td>\n",
       "      <td>0.743590</td>\n",
       "      <td>1.0</td>\n",
       "      <td>0.0</td>\n",
       "    </tr>\n",
       "    <tr>\n",
       "      <th>2</th>\n",
       "      <td>0.000000</td>\n",
       "      <td>1.0</td>\n",
       "      <td>1.0</td>\n",
       "      <td>0.035250</td>\n",
       "      <td>0.000000</td>\n",
       "      <td>0.082489</td>\n",
       "      <td>0.743590</td>\n",
       "      <td>1.0</td>\n",
       "      <td>1.0</td>\n",
       "    </tr>\n",
       "    <tr>\n",
       "      <th>3</th>\n",
       "      <td>0.000000</td>\n",
       "      <td>0.0</td>\n",
       "      <td>0.0</td>\n",
       "      <td>0.030093</td>\n",
       "      <td>0.056592</td>\n",
       "      <td>0.160637</td>\n",
       "      <td>0.743590</td>\n",
       "      <td>1.0</td>\n",
       "      <td>1.0</td>\n",
       "    </tr>\n",
       "    <tr>\n",
       "      <th>4</th>\n",
       "      <td>0.000000</td>\n",
       "      <td>1.0</td>\n",
       "      <td>0.0</td>\n",
       "      <td>0.072356</td>\n",
       "      <td>0.000000</td>\n",
       "      <td>0.191027</td>\n",
       "      <td>0.743590</td>\n",
       "      <td>1.0</td>\n",
       "      <td>1.0</td>\n",
       "    </tr>\n",
       "    <tr>\n",
       "      <th>...</th>\n",
       "      <td>...</td>\n",
       "      <td>...</td>\n",
       "      <td>...</td>\n",
       "      <td>...</td>\n",
       "      <td>...</td>\n",
       "      <td>...</td>\n",
       "      <td>...</td>\n",
       "      <td>...</td>\n",
       "      <td>...</td>\n",
       "    </tr>\n",
       "    <tr>\n",
       "      <th>609</th>\n",
       "      <td>0.000000</td>\n",
       "      <td>1.0</td>\n",
       "      <td>0.0</td>\n",
       "      <td>0.034014</td>\n",
       "      <td>0.000000</td>\n",
       "      <td>0.089725</td>\n",
       "      <td>0.743590</td>\n",
       "      <td>1.0</td>\n",
       "      <td>0.0</td>\n",
       "    </tr>\n",
       "    <tr>\n",
       "      <th>610</th>\n",
       "      <td>1.000000</td>\n",
       "      <td>1.0</td>\n",
       "      <td>0.0</td>\n",
       "      <td>0.048930</td>\n",
       "      <td>0.000000</td>\n",
       "      <td>0.044863</td>\n",
       "      <td>0.358974</td>\n",
       "      <td>1.0</td>\n",
       "      <td>0.0</td>\n",
       "    </tr>\n",
       "    <tr>\n",
       "      <th>611</th>\n",
       "      <td>0.333333</td>\n",
       "      <td>1.0</td>\n",
       "      <td>0.0</td>\n",
       "      <td>0.097984</td>\n",
       "      <td>0.005760</td>\n",
       "      <td>0.353111</td>\n",
       "      <td>0.743590</td>\n",
       "      <td>1.0</td>\n",
       "      <td>1.0</td>\n",
       "    </tr>\n",
       "    <tr>\n",
       "      <th>612</th>\n",
       "      <td>0.666667</td>\n",
       "      <td>1.0</td>\n",
       "      <td>0.0</td>\n",
       "      <td>0.091936</td>\n",
       "      <td>0.000000</td>\n",
       "      <td>0.257598</td>\n",
       "      <td>0.743590</td>\n",
       "      <td>1.0</td>\n",
       "      <td>1.0</td>\n",
       "    </tr>\n",
       "    <tr>\n",
       "      <th>613</th>\n",
       "      <td>0.000000</td>\n",
       "      <td>1.0</td>\n",
       "      <td>1.0</td>\n",
       "      <td>0.054830</td>\n",
       "      <td>0.000000</td>\n",
       "      <td>0.179450</td>\n",
       "      <td>0.743590</td>\n",
       "      <td>0.0</td>\n",
       "      <td>0.5</td>\n",
       "    </tr>\n",
       "  </tbody>\n",
       "</table>\n",
       "<p>614 rows × 9 columns</p>\n",
       "</div>"
      ],
      "text/plain": [
       "     Dependents  Education  Self_Employed  ApplicantIncome  CoapplicantIncome  \\\n",
       "0      0.000000        1.0            0.0         0.070489           0.000000   \n",
       "1      0.333333        1.0            0.0         0.054830           0.036192   \n",
       "2      0.000000        1.0            1.0         0.035250           0.000000   \n",
       "3      0.000000        0.0            0.0         0.030093           0.056592   \n",
       "4      0.000000        1.0            0.0         0.072356           0.000000   \n",
       "..          ...        ...            ...              ...                ...   \n",
       "609    0.000000        1.0            0.0         0.034014           0.000000   \n",
       "610    1.000000        1.0            0.0         0.048930           0.000000   \n",
       "611    0.333333        1.0            0.0         0.097984           0.005760   \n",
       "612    0.666667        1.0            0.0         0.091936           0.000000   \n",
       "613    0.000000        1.0            1.0         0.054830           0.000000   \n",
       "\n",
       "     LoanAmount  Loan_Amount_Term  Credit_History  Property_Area  \n",
       "0      0.198860          0.743590             1.0            1.0  \n",
       "1      0.172214          0.743590             1.0            0.0  \n",
       "2      0.082489          0.743590             1.0            1.0  \n",
       "3      0.160637          0.743590             1.0            1.0  \n",
       "4      0.191027          0.743590             1.0            1.0  \n",
       "..          ...               ...             ...            ...  \n",
       "609    0.089725          0.743590             1.0            0.0  \n",
       "610    0.044863          0.358974             1.0            0.0  \n",
       "611    0.353111          0.743590             1.0            1.0  \n",
       "612    0.257598          0.743590             1.0            1.0  \n",
       "613    0.179450          0.743590             0.0            0.5  \n",
       "\n",
       "[614 rows x 9 columns]"
      ]
     },
     "execution_count": 53,
     "metadata": {},
     "output_type": "execute_result"
    }
   ],
   "source": [
    "x_df = pd.DataFrame(normalized_array,columns=x.columns)\n",
    "x_df"
   ]
  },
  {
   "cell_type": "code",
   "execution_count": 54,
   "id": "007d205d",
   "metadata": {},
   "outputs": [],
   "source": [
    "x_train_s,x_test_x,y_train_s,y_test_s = train_test_split(x_df,y,random_state=23,test_size=0.25,stratify=y)"
   ]
  },
  {
   "cell_type": "code",
   "execution_count": 55,
   "id": "01368baf",
   "metadata": {},
   "outputs": [
    {
     "data": {
      "text/plain": [
       "KNeighborsClassifier(n_neighbors=11)"
      ]
     },
     "execution_count": 55,
     "metadata": {},
     "output_type": "execute_result"
    }
   ],
   "source": [
    "# Hyperparameter Tuning on Scaled Data\n",
    "\n",
    "knn_clf_s = KNeighborsClassifier()\n",
    "\n",
    "hyp = {'n_neighbors':np.arange(2,30),'p':[1,2]}\n",
    "gscv_knn_clf_s = GridSearchCV(knn_clf_s,hyp,cv = 5)\n",
    "gscv_knn_clf_s.fit(x_train_s,y_train_s)\n",
    "gscv_knn_clf_s.best_estimator_\n",
    "   "
   ]
  },
  {
   "cell_type": "code",
   "execution_count": 56,
   "id": "c6fec6b6",
   "metadata": {},
   "outputs": [
    {
     "data": {
      "text/plain": [
       "KNeighborsClassifier(n_neighbors=11)"
      ]
     },
     "execution_count": 56,
     "metadata": {},
     "output_type": "execute_result"
    }
   ],
   "source": [
    "# KNN Model after hyperparameter tuning\n",
    "knn_clf_s = KNeighborsClassifier(n_neighbors=11)\n",
    "knn_clf_s.fit(x_train_s,y_train_s)"
   ]
  },
  {
   "cell_type": "markdown",
   "id": "3ae2c6b4",
   "metadata": {},
   "source": [
    "### KNN Model evaluation after Hyperparameter Tuning"
   ]
  },
  {
   "cell_type": "code",
   "execution_count": 57,
   "id": "2629d8e9",
   "metadata": {},
   "outputs": [
    {
     "name": "stdout",
     "output_type": "stream",
     "text": [
      "Classification report is:               precision    recall  f1-score   support\n",
      "\n",
      "           0       0.88      0.44      0.58        48\n",
      "           1       0.79      0.97      0.87       106\n",
      "\n",
      "    accuracy                           0.81       154\n",
      "   macro avg       0.83      0.70      0.73       154\n",
      "weighted avg       0.82      0.81      0.78       154\n",
      "\n",
      "Confusion matrix is: [[ 21  27]\n",
      " [  3 103]]\n",
      "accuracy score is: 0.8051948051948052\n"
     ]
    }
   ],
   "source": [
    "# Testing Data Evaluation\n",
    "y_pred_s = knn_clf_s.predict(x_test_x)\n",
    "\n",
    "clf_report = classification_report(y_test_s,y_pred_s)\n",
    "print('Classification report is:',clf_report)\n",
    "\n",
    "cnf_matrix = confusion_matrix(y_test_s,y_pred_s)\n",
    "print('Confusion matrix is:',cnf_matrix)\n",
    "\n",
    "acc_score = accuracy_score(y_test_s,y_pred_s)\n",
    "print('accuracy score is:',acc_score)"
   ]
  },
  {
   "cell_type": "code",
   "execution_count": 58,
   "id": "bf7d9651",
   "metadata": {},
   "outputs": [
    {
     "name": "stdout",
     "output_type": "stream",
     "text": [
      "Classification report is:               precision    recall  f1-score   support\n",
      "\n",
      "           0       0.94      0.44      0.60       144\n",
      "           1       0.79      0.99      0.88       316\n",
      "\n",
      "    accuracy                           0.82       460\n",
      "   macro avg       0.87      0.71      0.74       460\n",
      "weighted avg       0.84      0.82      0.79       460\n",
      "\n",
      "Confusion matrix is: [[ 63  81]\n",
      " [  4 312]]\n",
      "accuracy score is: 0.8152173913043478\n"
     ]
    }
   ],
   "source": [
    "# Training Data Evaluation\n",
    "y_pred_train_s = knn_clf_s.predict(x_train_s)\n",
    "\n",
    "clf_report = classification_report(y_train_s,y_pred_train_s)\n",
    "print('Classification report is:',clf_report)\n",
    "\n",
    "cnf_matrix = confusion_matrix(y_train_s,y_pred_train_s)\n",
    "print('Confusion matrix is:',cnf_matrix)\n",
    "\n",
    "acc_score = accuracy_score(y_train_s,y_pred_train_s)\n",
    "print('accuracy score is:',acc_score)"
   ]
  },
  {
   "cell_type": "markdown",
   "id": "efec7806",
   "metadata": {},
   "source": [
    "### Training Model using Decision Tree Classifier"
   ]
  },
  {
   "cell_type": "code",
   "execution_count": 59,
   "id": "0ef3626e",
   "metadata": {},
   "outputs": [
    {
     "data": {
      "text/plain": [
       "DecisionTreeClassifier()"
      ]
     },
     "execution_count": 59,
     "metadata": {},
     "output_type": "execute_result"
    }
   ],
   "source": [
    "dt_clf = DecisionTreeClassifier()\n",
    "dt_clf.fit(x_train,y_train)"
   ]
  },
  {
   "cell_type": "markdown",
   "id": "721c8f24",
   "metadata": {},
   "source": [
    "### Decision Tree Model Evaluation"
   ]
  },
  {
   "cell_type": "code",
   "execution_count": 60,
   "id": "317a0a13",
   "metadata": {},
   "outputs": [
    {
     "name": "stdout",
     "output_type": "stream",
     "text": [
      "Classification report is:               precision    recall  f1-score   support\n",
      "\n",
      "           0       0.49      0.46      0.47        48\n",
      "           1       0.76      0.78      0.77       106\n",
      "\n",
      "    accuracy                           0.68       154\n",
      "   macro avg       0.63      0.62      0.62       154\n",
      "weighted avg       0.68      0.68      0.68       154\n",
      "\n",
      "Confusion matrix is: [[22 26]\n",
      " [23 83]]\n",
      "accuracy score is: 0.6818181818181818\n"
     ]
    }
   ],
   "source": [
    "# Testing Data Evaluation\n",
    "y_pred = dt_clf.predict(x_test)\n",
    "\n",
    "clf_report = classification_report(y_test,y_pred)\n",
    "print('Classification report is:',clf_report)\n",
    "\n",
    "cnf_matrix = confusion_matrix(y_test,y_pred)\n",
    "print('Confusion matrix is:',cnf_matrix)\n",
    "\n",
    "acc_score = accuracy_score(y_test,y_pred)\n",
    "print('accuracy score is:',acc_score)"
   ]
  },
  {
   "cell_type": "code",
   "execution_count": 61,
   "id": "19d3f320",
   "metadata": {},
   "outputs": [
    {
     "name": "stdout",
     "output_type": "stream",
     "text": [
      "Classification report is:               precision    recall  f1-score   support\n",
      "\n",
      "           0       1.00      1.00      1.00       144\n",
      "           1       1.00      1.00      1.00       316\n",
      "\n",
      "    accuracy                           1.00       460\n",
      "   macro avg       1.00      1.00      1.00       460\n",
      "weighted avg       1.00      1.00      1.00       460\n",
      "\n",
      "Confusion matrix is: [[144   0]\n",
      " [  0 316]]\n",
      "accuracy score is: 1.0\n"
     ]
    }
   ],
   "source": [
    "# Training Data Evaluation\n",
    "y_pred_train = dt_clf.predict(x_train)\n",
    "\n",
    "clf_report = classification_report(y_train,y_pred_train)\n",
    "print('Classification report is:',clf_report)\n",
    "\n",
    "cnf_matrix = confusion_matrix(y_train,y_pred_train)\n",
    "print('Confusion matrix is:',cnf_matrix)\n",
    "\n",
    "acc_score = accuracy_score(y_train,y_pred_train)\n",
    "print('accuracy score is:',acc_score)"
   ]
  },
  {
   "cell_type": "markdown",
   "id": "f7cf2757",
   "metadata": {},
   "source": [
    "####### Looking upon the above evaluation metrices of Decision Tree model, we can clearly see that the model is overfitted. Thus, to avoid this, we will perform hyperparameter tuning and again train the model.####"
   ]
  },
  {
   "cell_type": "code",
   "execution_count": 69,
   "id": "9f34dca6",
   "metadata": {},
   "outputs": [
    {
     "data": {
      "text/plain": [
       "DecisionTreeClassifier(criterion='entropy', max_depth=4, min_samples_leaf=5)"
      ]
     },
     "execution_count": 69,
     "metadata": {},
     "output_type": "execute_result"
    }
   ],
   "source": [
    "# Hyperparameter Tuning \n",
    "\n",
    "dt_clf2 = DecisionTreeClassifier()\n",
    "\n",
    "hyp = {'criterion':['gini','entropy'],\n",
    "        'max_depth':np.arange(3,10),\n",
    "        'min_samples_split':np.arange(2,20),\n",
    "        'min_samples_leaf':np.arange(2,10)}\n",
    "\n",
    "gscv_dt_clf = GridSearchCV(dt_clf2,hyp,cv = 5)\n",
    "gscv_dt_clf.fit(x_train,y_train)\n",
    "gscv_dt_clf.best_estimator_"
   ]
  },
  {
   "cell_type": "code",
   "execution_count": 70,
   "id": "6357b015",
   "metadata": {},
   "outputs": [
    {
     "data": {
      "text/plain": [
       "DecisionTreeClassifier(criterion='entropy', max_depth=4, min_samples_leaf=5)"
      ]
     },
     "execution_count": 70,
     "metadata": {},
     "output_type": "execute_result"
    }
   ],
   "source": [
    "dt_clf2 = DecisionTreeClassifier(criterion='entropy', max_depth=4, min_samples_leaf=5)\n",
    "dt_clf2.fit(x_train,y_train)"
   ]
  },
  {
   "cell_type": "markdown",
   "id": "e8fc48a7",
   "metadata": {},
   "source": [
    "### Decision Tree Model after Hyperparameter Tuning"
   ]
  },
  {
   "cell_type": "code",
   "execution_count": 74,
   "id": "c7ad4103",
   "metadata": {},
   "outputs": [
    {
     "name": "stdout",
     "output_type": "stream",
     "text": [
      "Classification report is:               precision    recall  f1-score   support\n",
      "\n",
      "           0       0.93      0.47      0.62       144\n",
      "           1       0.80      0.98      0.88       316\n",
      "\n",
      "    accuracy                           0.82       460\n",
      "   macro avg       0.87      0.72      0.75       460\n",
      "weighted avg       0.84      0.82      0.80       460\n",
      "\n",
      "Confusion matrix is: [[ 67  77]\n",
      " [  5 311]]\n",
      "accuracy score is: 0.8217391304347826\n"
     ]
    }
   ],
   "source": [
    "# Testing Data Evaluation\n",
    "y_pred = dt_clf2.predict(x_test)\n",
    "\n",
    "clf_report2 = classification_report(y_test,y_pred)\n",
    "print('Classification report is:',clf_report)\n",
    "\n",
    "cnf_matrix2 = confusion_matrix(y_test,y_pred)\n",
    "print('Confusion matrix is:',cnf_matrix)\n",
    "\n",
    "acc_score2 = accuracy_score(y_test,y_pred)\n",
    "print('accuracy score is:',acc_score)"
   ]
  },
  {
   "cell_type": "code",
   "execution_count": 75,
   "id": "565cb00f",
   "metadata": {
    "scrolled": true
   },
   "outputs": [
    {
     "name": "stdout",
     "output_type": "stream",
     "text": [
      "Classification report is:               precision    recall  f1-score   support\n",
      "\n",
      "           0       0.93      0.47      0.62       144\n",
      "           1       0.80      0.98      0.88       316\n",
      "\n",
      "    accuracy                           0.82       460\n",
      "   macro avg       0.87      0.72      0.75       460\n",
      "weighted avg       0.84      0.82      0.80       460\n",
      "\n",
      "Confusion matrix is: [[ 67  77]\n",
      " [  5 311]]\n",
      "accuracy score is: 0.8217391304347826\n"
     ]
    }
   ],
   "source": [
    "# Training Data Evaluation\n",
    "y_pred_train = dt_clf2.predict(x_train)\n",
    "\n",
    "clf_report = classification_report(y_train,y_pred_train)\n",
    "print('Classification report is:',clf_report)\n",
    "\n",
    "cnf_matrix = confusion_matrix(y_train,y_pred_train)\n",
    "print('Confusion matrix is:',cnf_matrix)\n",
    "\n",
    "acc_score = accuracy_score(y_train,y_pred_train)\n",
    "print('accuracy score is:',acc_score)"
   ]
  },
  {
   "cell_type": "code",
   "execution_count": null,
   "id": "c7764028",
   "metadata": {},
   "outputs": [],
   "source": [
    "# Plot Decision Tree after Hyperparameter Tuning\n",
    "plt.figure(figsize=(300,160))\n",
    "plot_tree(dt_clf,feature_names=x.columns,class_names=['0','1'],filled=True)\n",
    "plt.savefig('Loan_model_dt.png')"
   ]
  },
  {
   "cell_type": "markdown",
   "id": "0ed55220",
   "metadata": {},
   "source": [
    "####### We have reduced the overfitting by Hyperparameter tuning, however, we are not getting accuracies to conclude our model as best fit model.#####"
   ]
  },
  {
   "cell_type": "markdown",
   "id": "93c632d0",
   "metadata": {},
   "source": [
    "### Training Model using Random Forest Classifier"
   ]
  },
  {
   "cell_type": "code",
   "execution_count": 76,
   "id": "e558c554",
   "metadata": {},
   "outputs": [
    {
     "data": {
      "text/plain": [
       "RandomForestClassifier()"
      ]
     },
     "execution_count": 76,
     "metadata": {},
     "output_type": "execute_result"
    }
   ],
   "source": [
    "rd_clf1 = RandomForestClassifier()\n",
    "rd_clf1.fit(x_train,y_train)"
   ]
  },
  {
   "cell_type": "markdown",
   "id": "dad62311",
   "metadata": {},
   "source": [
    "### Model Evaluation on Random Forest Model"
   ]
  },
  {
   "cell_type": "code",
   "execution_count": 77,
   "id": "944647ed",
   "metadata": {},
   "outputs": [
    {
     "name": "stdout",
     "output_type": "stream",
     "text": [
      "Classification report is:               precision    recall  f1-score   support\n",
      "\n",
      "           0       0.93      0.47      0.62       144\n",
      "           1       0.80      0.98      0.88       316\n",
      "\n",
      "    accuracy                           0.82       460\n",
      "   macro avg       0.87      0.72      0.75       460\n",
      "weighted avg       0.84      0.82      0.80       460\n",
      "\n",
      "Confusion matrix is: [[ 67  77]\n",
      " [  5 311]]\n",
      "accuracy score is: 0.8217391304347826\n"
     ]
    }
   ],
   "source": [
    "# Testing Data Evaluation\n",
    "y_pred = rd_clf1.predict(x_test)\n",
    "\n",
    "clf_report1 = classification_report(y_test,y_pred)\n",
    "print('Classification report is:',clf_report)\n",
    "\n",
    "cnf_matrix1 = confusion_matrix(y_test,y_pred)\n",
    "print('Confusion matrix is:',cnf_matrix)\n",
    "\n",
    "acc_score1 = accuracy_score(y_test,y_pred)\n",
    "print('accuracy score is:',acc_score)"
   ]
  },
  {
   "cell_type": "code",
   "execution_count": 78,
   "id": "8aabf6ff",
   "metadata": {
    "scrolled": true
   },
   "outputs": [
    {
     "name": "stdout",
     "output_type": "stream",
     "text": [
      "Classification report is:               precision    recall  f1-score   support\n",
      "\n",
      "           0       0.93      0.47      0.62       144\n",
      "           1       0.80      0.98      0.88       316\n",
      "\n",
      "    accuracy                           0.82       460\n",
      "   macro avg       0.87      0.72      0.75       460\n",
      "weighted avg       0.84      0.82      0.80       460\n",
      "\n",
      "Confusion matrix is: [[ 67  77]\n",
      " [  5 311]]\n",
      "accuracy score is: 0.8217391304347826\n"
     ]
    }
   ],
   "source": [
    "# Training Data Evaluation\n",
    "y_pred_train = rd_clf1.predict(x_train)\n",
    "\n",
    "clf_report1 = classification_report(y_train,y_pred_train)\n",
    "print('Classification report is:',clf_report)\n",
    "\n",
    "cnf_matrix1 = confusion_matrix(y_train,y_pred_train)\n",
    "print('Confusion matrix is:',cnf_matrix)\n",
    "\n",
    "acc_score1 = accuracy_score(y_train,y_pred_train)\n",
    "print('accuracy score is:',acc_score)"
   ]
  },
  {
   "cell_type": "code",
   "execution_count": null,
   "id": "bc9cfc47",
   "metadata": {
    "scrolled": true
   },
   "outputs": [],
   "source": [
    "# Checking Feature Importance on Model build using Random Forest Classifier\n",
    "\n",
    "s1 = pd.Series(rd_clf.feature_importances_)\n",
    "s1.index = x.columns\n",
    "s1.sort_values().plot(kind = 'barh')"
   ]
  },
  {
   "cell_type": "raw",
   "id": "053a5289",
   "metadata": {},
   "source": [
    "We can clearly see that Credit_History Feature is having more impact on Random Forest Classifier Model."
   ]
  },
  {
   "cell_type": "markdown",
   "id": "93e99a7c",
   "metadata": {},
   "source": [
    "####### Again the model is overfitted for the model trained under Random Forest classifier. So, we will perform hyperparameter training and again evaluate the model to check for the better results.#######"
   ]
  },
  {
   "cell_type": "code",
   "execution_count": 79,
   "id": "1215ce49",
   "metadata": {},
   "outputs": [
    {
     "data": {
      "text/plain": [
       "RandomForestClassifier(criterion='entropy', max_depth=6, min_samples_leaf=13,\n",
       "                       min_samples_split=10, n_estimators=29)"
      ]
     },
     "execution_count": 79,
     "metadata": {},
     "output_type": "execute_result"
    }
   ],
   "source": [
    "#Hyperparameter Tuning\n",
    "rd_clf = RandomForestClassifier()\n",
    "\n",
    "hyp = {'n_estimators':np.arange(10,200),\n",
    "        'criterion':['gini','entropy'],\n",
    "        'max_depth':np.arange(5,15),\n",
    "        'min_samples_split':np.arange(5,20),\n",
    "        'min_samples_leaf':np.arange(4,15),\n",
    "        'max_features':['auto']}\n",
    "rscv_rd_clf = RandomizedSearchCV(rd_clf,hyp,cv = 5)\n",
    "rscv_rd_clf.fit(x_train,y_train)\n",
    "rscv_rd_clf.best_estimator_"
   ]
  },
  {
   "cell_type": "code",
   "execution_count": 80,
   "id": "aff32011",
   "metadata": {},
   "outputs": [
    {
     "data": {
      "text/plain": [
       "RandomForestClassifier(max_depth=12, min_samples_leaf=7, min_samples_split=19,\n",
       "                       n_estimators=189)"
      ]
     },
     "execution_count": 80,
     "metadata": {},
     "output_type": "execute_result"
    }
   ],
   "source": [
    "# Building model after Hyperparameter Tuning\n",
    "rd_clf2 = RandomForestClassifier(max_depth=12, min_samples_leaf=7, min_samples_split=19,\n",
    "                       n_estimators=189)\n",
    "rd_clf2.fit(x_train,y_train)"
   ]
  },
  {
   "cell_type": "markdown",
   "id": "739dab0e",
   "metadata": {},
   "source": [
    "### Random Forest Model Evaluation after Hyperparameter Tuning"
   ]
  },
  {
   "cell_type": "code",
   "execution_count": 81,
   "id": "ac17d750",
   "metadata": {},
   "outputs": [
    {
     "name": "stdout",
     "output_type": "stream",
     "text": [
      "Classification report is:               precision    recall  f1-score   support\n",
      "\n",
      "           0       0.93      0.47      0.62       144\n",
      "           1       0.80      0.98      0.88       316\n",
      "\n",
      "    accuracy                           0.82       460\n",
      "   macro avg       0.87      0.72      0.75       460\n",
      "weighted avg       0.84      0.82      0.80       460\n",
      "\n",
      "Confusion matrix is: [[ 67  77]\n",
      " [  5 311]]\n",
      "accuracy score is: 0.8217391304347826\n"
     ]
    }
   ],
   "source": [
    "# Testing Data Evaluation\n",
    "y_pred = rd_clf2.predict(x_test)\n",
    "\n",
    "clf_report2 = classification_report(y_test,y_pred)\n",
    "print('Classification report is:',clf_report)\n",
    "\n",
    "cnf_matrix2 = confusion_matrix(y_test,y_pred)\n",
    "print('Confusion matrix is:',cnf_matrix)\n",
    "\n",
    "acc_score2 = accuracy_score(y_test,y_pred)\n",
    "print('accuracy score is:',acc_score)"
   ]
  },
  {
   "cell_type": "code",
   "execution_count": 82,
   "id": "c4cde92b",
   "metadata": {
    "scrolled": true
   },
   "outputs": [
    {
     "name": "stdout",
     "output_type": "stream",
     "text": [
      "Classification report is:               precision    recall  f1-score   support\n",
      "\n",
      "           0       0.93      0.47      0.62       144\n",
      "           1       0.80      0.98      0.88       316\n",
      "\n",
      "    accuracy                           0.82       460\n",
      "   macro avg       0.87      0.72      0.75       460\n",
      "weighted avg       0.84      0.82      0.80       460\n",
      "\n",
      "Confusion matrix is: [[ 67  77]\n",
      " [  5 311]]\n",
      "accuracy score is: 0.8217391304347826\n"
     ]
    }
   ],
   "source": [
    "# Training Data Evaluation\n",
    "y_pred_train = rd_clf2.predict(x_train)\n",
    "\n",
    "clf_report2 = classification_report(y_train,y_pred_train)\n",
    "print('Classification report is:',clf_report)\n",
    "\n",
    "cnf_matrix2 = confusion_matrix(y_train,y_pred_train)\n",
    "print('Confusion matrix is:',cnf_matrix)\n",
    "\n",
    "acc_score2 = accuracy_score(y_train,y_pred_train)\n",
    "print('accuracy score is:',acc_score)"
   ]
  },
  {
   "cell_type": "markdown",
   "id": "efec17c8",
   "metadata": {},
   "source": [
    "### Training Model using Adaboost Classifier"
   ]
  },
  {
   "cell_type": "code",
   "execution_count": 83,
   "id": "989c4203",
   "metadata": {},
   "outputs": [
    {
     "data": {
      "text/plain": [
       "AdaBoostClassifier()"
      ]
     },
     "execution_count": 83,
     "metadata": {},
     "output_type": "execute_result"
    }
   ],
   "source": [
    "adb_clf1 = AdaBoostClassifier()\n",
    "adb_clf1.fit(x_train,y_train)"
   ]
  },
  {
   "cell_type": "markdown",
   "id": "6e832bbe",
   "metadata": {},
   "source": [
    "### Model Evaluation on Adaboost Classifier"
   ]
  },
  {
   "cell_type": "code",
   "execution_count": 84,
   "id": "27e9363e",
   "metadata": {},
   "outputs": [
    {
     "name": "stdout",
     "output_type": "stream",
     "text": [
      "Classification report is:               precision    recall  f1-score   support\n",
      "\n",
      "           0       0.93      0.47      0.62       144\n",
      "           1       0.80      0.98      0.88       316\n",
      "\n",
      "    accuracy                           0.82       460\n",
      "   macro avg       0.87      0.72      0.75       460\n",
      "weighted avg       0.84      0.82      0.80       460\n",
      "\n",
      "Confusion matrix is: [[ 67  77]\n",
      " [  5 311]]\n",
      "accuracy score is: 0.8217391304347826\n"
     ]
    }
   ],
   "source": [
    "# Testing Data Evaluation\n",
    "y_pred = adb_clf1.predict(x_test)\n",
    "\n",
    "clf_report1 = classification_report(y_test,y_pred)\n",
    "print('Classification report is:',clf_report)\n",
    "\n",
    "cnf_matrix1 = confusion_matrix(y_test,y_pred)\n",
    "print('Confusion matrix is:',cnf_matrix)\n",
    "\n",
    "acc_score1 = accuracy_score(y_test,y_pred)\n",
    "print('accuracy score is:',acc_score)"
   ]
  },
  {
   "cell_type": "code",
   "execution_count": 85,
   "id": "fee24cb5",
   "metadata": {
    "scrolled": true
   },
   "outputs": [
    {
     "name": "stdout",
     "output_type": "stream",
     "text": [
      "Classification report is:               precision    recall  f1-score   support\n",
      "\n",
      "           0       0.93      0.47      0.62       144\n",
      "           1       0.80      0.98      0.88       316\n",
      "\n",
      "    accuracy                           0.82       460\n",
      "   macro avg       0.87      0.72      0.75       460\n",
      "weighted avg       0.84      0.82      0.80       460\n",
      "\n",
      "Confusion matrix is: [[ 67  77]\n",
      " [  5 311]]\n",
      "accuracy score is: 0.8217391304347826\n"
     ]
    }
   ],
   "source": [
    "# Training Data Evaluation\n",
    "y_pred_train = adb_clf1.predict(x_train)\n",
    "\n",
    "clf_report1 = classification_report(y_train,y_pred_train)\n",
    "print('Classification report is:',clf_report)\n",
    "\n",
    "cnf_matrix1 = confusion_matrix(y_train,y_pred_train)\n",
    "print('Confusion matrix is:',cnf_matrix)\n",
    "\n",
    "acc_score1 = accuracy_score(y_train,y_pred_train)\n",
    "print('accuracy score is:',acc_score)"
   ]
  },
  {
   "cell_type": "code",
   "execution_count": 86,
   "id": "5e9fcb8b",
   "metadata": {
    "scrolled": true
   },
   "outputs": [
    {
     "ename": "NameError",
     "evalue": "name 'adb_clf' is not defined",
     "output_type": "error",
     "traceback": [
      "\u001b[1;31m---------------------------------------------------------------------------\u001b[0m",
      "\u001b[1;31mNameError\u001b[0m                                 Traceback (most recent call last)",
      "\u001b[1;32m<ipython-input-86-ebd366c9af66>\u001b[0m in \u001b[0;36m<module>\u001b[1;34m\u001b[0m\n\u001b[0;32m      1\u001b[0m \u001b[1;31m# Checking Feature Importance on Model build using Random Forest Classifier\u001b[0m\u001b[1;33m\u001b[0m\u001b[1;33m\u001b[0m\u001b[1;33m\u001b[0m\u001b[0m\n\u001b[0;32m      2\u001b[0m \u001b[1;33m\u001b[0m\u001b[0m\n\u001b[1;32m----> 3\u001b[1;33m \u001b[0ms2\u001b[0m \u001b[1;33m=\u001b[0m \u001b[0mpd\u001b[0m\u001b[1;33m.\u001b[0m\u001b[0mSeries\u001b[0m\u001b[1;33m(\u001b[0m\u001b[0madb_clf\u001b[0m\u001b[1;33m.\u001b[0m\u001b[0mfeature_importances_\u001b[0m\u001b[1;33m)\u001b[0m\u001b[1;33m\u001b[0m\u001b[1;33m\u001b[0m\u001b[0m\n\u001b[0m\u001b[0;32m      4\u001b[0m \u001b[0ms2\u001b[0m\u001b[1;33m.\u001b[0m\u001b[0mindex\u001b[0m \u001b[1;33m=\u001b[0m \u001b[0mx\u001b[0m\u001b[1;33m.\u001b[0m\u001b[0mcolumns\u001b[0m\u001b[1;33m\u001b[0m\u001b[1;33m\u001b[0m\u001b[0m\n\u001b[0;32m      5\u001b[0m \u001b[0ms2\u001b[0m\u001b[1;33m.\u001b[0m\u001b[0msort_values\u001b[0m\u001b[1;33m(\u001b[0m\u001b[1;33m)\u001b[0m\u001b[1;33m.\u001b[0m\u001b[0mplot\u001b[0m\u001b[1;33m(\u001b[0m\u001b[0mkind\u001b[0m \u001b[1;33m=\u001b[0m \u001b[1;34m'barh'\u001b[0m\u001b[1;33m)\u001b[0m\u001b[1;33m\u001b[0m\u001b[1;33m\u001b[0m\u001b[0m\n",
      "\u001b[1;31mNameError\u001b[0m: name 'adb_clf' is not defined"
     ]
    }
   ],
   "source": [
    "# Checking Feature Importance on Model build using Random Forest Classifier\n",
    "\n",
    "s2 = pd.Series(adb_clf.feature_importances_)\n",
    "s2.index = x.columns\n",
    "s2.sort_values().plot(kind = 'barh')"
   ]
  },
  {
   "cell_type": "raw",
   "id": "ec5adb92",
   "metadata": {},
   "source": [
    "In Adaboost Classifier also the model is getting mostly affected by the Credit_History feature."
   ]
  },
  {
   "cell_type": "markdown",
   "id": "91d5c74d",
   "metadata": {},
   "source": [
    "####### Model is overfitted, we will perform hyperparameter tuning and train the model using Adaboost classifier and check the accuracies. ######"
   ]
  },
  {
   "cell_type": "code",
   "execution_count": 87,
   "id": "9a1d015f",
   "metadata": {},
   "outputs": [
    {
     "ename": "NameError",
     "evalue": "name 'adb_clf' is not defined",
     "output_type": "error",
     "traceback": [
      "\u001b[1;31m---------------------------------------------------------------------------\u001b[0m",
      "\u001b[1;31mNameError\u001b[0m                                 Traceback (most recent call last)",
      "\u001b[1;32m<ipython-input-87-cacc5954cbec>\u001b[0m in \u001b[0;36m<module>\u001b[1;34m\u001b[0m\n\u001b[0;32m      6\u001b[0m         'learning_rate':np.arange(1,30)}\n\u001b[0;32m      7\u001b[0m \u001b[1;33m\u001b[0m\u001b[0m\n\u001b[1;32m----> 8\u001b[1;33m \u001b[0mrscv_adb_clf\u001b[0m \u001b[1;33m=\u001b[0m \u001b[0mRandomizedSearchCV\u001b[0m\u001b[1;33m(\u001b[0m\u001b[0madb_clf\u001b[0m\u001b[1;33m,\u001b[0m\u001b[0mhyp\u001b[0m\u001b[1;33m,\u001b[0m\u001b[0mcv\u001b[0m \u001b[1;33m=\u001b[0m \u001b[1;36m5\u001b[0m\u001b[1;33m)\u001b[0m\u001b[1;33m\u001b[0m\u001b[1;33m\u001b[0m\u001b[0m\n\u001b[0m\u001b[0;32m      9\u001b[0m \u001b[0mrscv_adb_clf\u001b[0m\u001b[1;33m.\u001b[0m\u001b[0mfit\u001b[0m\u001b[1;33m(\u001b[0m\u001b[0mx_train\u001b[0m\u001b[1;33m,\u001b[0m\u001b[0my_train\u001b[0m\u001b[1;33m)\u001b[0m\u001b[1;33m\u001b[0m\u001b[1;33m\u001b[0m\u001b[0m\n\u001b[0;32m     10\u001b[0m \u001b[0mrscv_adb_clf\u001b[0m\u001b[1;33m.\u001b[0m\u001b[0mbest_estimator_\u001b[0m\u001b[1;33m\u001b[0m\u001b[1;33m\u001b[0m\u001b[0m\n",
      "\u001b[1;31mNameError\u001b[0m: name 'adb_clf' is not defined"
     ]
    }
   ],
   "source": [
    "# Hyperparameter Tuning \n",
    "\n",
    "adb_clf2 = AdaBoostClassifier()\n",
    "\n",
    "hyp = {'n_estimators':np.arange(2,100),\n",
    "        'learning_rate':np.arange(1,30)}\n",
    "\n",
    "rscv_adb_clf = RandomizedSearchCV(adb_clf,hyp,cv = 5)\n",
    "rscv_adb_clf.fit(x_train,y_train)\n",
    "rscv_adb_clf.best_estimator_"
   ]
  },
  {
   "cell_type": "code",
   "execution_count": 88,
   "id": "ecf16b76",
   "metadata": {},
   "outputs": [
    {
     "data": {
      "text/plain": [
       "AdaBoostClassifier(learning_rate=7, n_estimators=83)"
      ]
     },
     "execution_count": 88,
     "metadata": {},
     "output_type": "execute_result"
    }
   ],
   "source": [
    "# Model building after Hyperparameter Tuning\n",
    "\n",
    "adb_clf2 = AdaBoostClassifier(learning_rate=7, n_estimators=83)\n",
    "adb_clf2.fit(x_train,y_train)"
   ]
  },
  {
   "cell_type": "markdown",
   "id": "3805b8a3",
   "metadata": {},
   "source": [
    "### Model Evaluation on Hperparameter Tuned Model"
   ]
  },
  {
   "cell_type": "code",
   "execution_count": 89,
   "id": "2113c984",
   "metadata": {},
   "outputs": [
    {
     "name": "stdout",
     "output_type": "stream",
     "text": [
      "Classification report is:               precision    recall  f1-score   support\n",
      "\n",
      "           0       0.93      0.47      0.62       144\n",
      "           1       0.80      0.98      0.88       316\n",
      "\n",
      "    accuracy                           0.82       460\n",
      "   macro avg       0.87      0.72      0.75       460\n",
      "weighted avg       0.84      0.82      0.80       460\n",
      "\n",
      "Confusion matrix is: [[ 67  77]\n",
      " [  5 311]]\n",
      "accuracy score is: 0.8217391304347826\n"
     ]
    }
   ],
   "source": [
    "# Testing Data Evaluation\n",
    "y_pred = adb_clf2.predict(x_test)\n",
    "\n",
    "clf_report2 = classification_report(y_test,y_pred)\n",
    "print('Classification report is:',clf_report)\n",
    "\n",
    "cnf_matrix2 = confusion_matrix(y_test,y_pred)\n",
    "print('Confusion matrix is:',cnf_matrix)\n",
    "\n",
    "acc_score2 = accuracy_score(y_test,y_pred)\n",
    "print('accuracy score is:',acc_score)"
   ]
  },
  {
   "cell_type": "code",
   "execution_count": 90,
   "id": "ff7a2915",
   "metadata": {
    "scrolled": true
   },
   "outputs": [
    {
     "name": "stdout",
     "output_type": "stream",
     "text": [
      "Classification report is:               precision    recall  f1-score   support\n",
      "\n",
      "           0       0.93      0.47      0.62       144\n",
      "           1       0.80      0.98      0.88       316\n",
      "\n",
      "    accuracy                           0.82       460\n",
      "   macro avg       0.87      0.72      0.75       460\n",
      "weighted avg       0.84      0.82      0.80       460\n",
      "\n",
      "Confusion matrix is: [[ 67  77]\n",
      " [  5 311]]\n",
      "accuracy score is: 0.8217391304347826\n"
     ]
    }
   ],
   "source": [
    "# Training Data Evaluation\n",
    "y_pred_train = adb_clf2.predict(x_train)\n",
    "\n",
    "clf_report2 = classification_report(y_train,y_pred_train)\n",
    "print('Classification report is:',clf_report)\n",
    "\n",
    "cnf_matrix2 = confusion_matrix(y_train,y_pred_train)\n",
    "print('Confusion matrix is:',cnf_matrix)\n",
    "\n",
    "acc_score2 = accuracy_score(y_train,y_pred_train)\n",
    "print('accuracy score is:',acc_score)"
   ]
  },
  {
   "cell_type": "code",
   "execution_count": 91,
   "id": "a69fcb8f",
   "metadata": {},
   "outputs": [
    {
     "data": {
      "text/plain": [
       "Index(['Dependents', 'Education', 'Self_Employed', 'ApplicantIncome',\n",
       "       'CoapplicantIncome', 'LoanAmount', 'Loan_Amount_Term', 'Credit_History',\n",
       "       'Property_Area', 'Loan_Status'],\n",
       "      dtype='object')"
      ]
     },
     "execution_count": 91,
     "metadata": {},
     "output_type": "execute_result"
    }
   ],
   "source": [
    "df.columns"
   ]
  },
  {
   "cell_type": "code",
   "execution_count": null,
   "id": "e537f173",
   "metadata": {},
   "outputs": [],
   "source": [
    "def get_predicted_score(Dependents, Education, Self_Employed, ApplicantIncome,\n",
    "       CoapplicantIncome, LoanAmount, Loan_Amount_Term, Credit_History,\n",
    "       Property_Area):\n",
    "    \n",
    "    input_array = np.array([Dependents, Education, Self_Employed, ApplicantIncome,\n",
    "       CoapplicantIncome, LoanAmount, Loan_Amount_Term, Credit_History,\n",
    "       Property_Area],ndmin = 2)\n",
    "    \n",
    "    predicted_class = \n",
    "    \n",
    "    \n",
    "    "
   ]
  },
  {
   "cell_type": "code",
   "execution_count": null,
   "id": "5068bec6",
   "metadata": {},
   "outputs": [],
   "source": []
  },
  {
   "cell_type": "code",
   "execution_count": null,
   "id": "129b8703",
   "metadata": {},
   "outputs": [],
   "source": []
  },
  {
   "cell_type": "code",
   "execution_count": null,
   "id": "98f11cfe",
   "metadata": {},
   "outputs": [],
   "source": [
    "import pandas as pd\n",
    "import numpy as np\n",
    "\n",
    "from sklearn.model_selection import train_test_split,GridSearchCV,RandomizedSearchCV\n",
    "from sklearn.preprocessing import MinMaxScaler, StandardScaler,OneHotEncoder,LabelEncoder\n",
    "\n",
    "from sklearn.linear_model import LinearRegression,LogisticRegression,Lasso,Ridge\n",
    "from sklearn.tree import DecisionTreeClassifier,DecisionTreeRegressor,plot_tree\n",
    "from sklearn.neighbors import KNeighborsClassifier,KNeighborsRegressor\n",
    "from sklearn.ensemble import RandomForestClassifier,RandomForestRegressor,AdaBoostClassifier,AdaBoostRegressor\n",
    "from sklearn.cluster import KMeans\n",
    "from sklearn.naive_bayes import GaussianNB,MultinomialNB,BernoulliNB\n",
    "\n",
    "from sklearn.metrics import accuracy_score,classification_report,confusion_matrix,roc_curve,roc_auc_score\n",
    "from sklearn.metrics import mean_absolute_error,mean_squared_error,r2_score\n",
    "\n",
    "import seaborn as sns\n",
    "import matplotlib.pyplot as plt\n"
   ]
  },
  {
   "cell_type": "code",
   "execution_count": null,
   "id": "04808987",
   "metadata": {},
   "outputs": [],
   "source": [
    "PROBLEM"
   ]
  }
 ],
 "metadata": {
  "kernelspec": {
   "display_name": "Python 3",
   "language": "python",
   "name": "python3"
  },
  "language_info": {
   "codemirror_mode": {
    "name": "ipython",
    "version": 3
   },
   "file_extension": ".py",
   "mimetype": "text/x-python",
   "name": "python",
   "nbconvert_exporter": "python",
   "pygments_lexer": "ipython3",
   "version": "3.8.8"
  }
 },
 "nbformat": 4,
 "nbformat_minor": 5
}
